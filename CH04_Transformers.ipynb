{
 "metadata": {
  "language_info": {
   "codemirror_mode": {
    "name": "ipython",
    "version": 3
   },
   "file_extension": ".py",
   "mimetype": "text/x-python",
   "name": "python",
   "nbconvert_exporter": "python",
   "pygments_lexer": "ipython3",
   "version": "3.8.8"
  },
  "orig_nbformat": 2,
  "kernelspec": {
   "name": "python388jvsc74a57bd0ac4d70e4d583a84b7ad989b773b88f6bded725ad52ee17c9fe1a30f4567fa143",
   "display_name": "Python 3.8.8 64-bit ('pytorchGPU': conda)"
  }
 },
 "nbformat": 4,
 "nbformat_minor": 2,
 "cells": [
  {
   "source": [
    "# CH04-Transformers\n",
    "\n",
    "数据并不总是以训练机器学习算法所需的最终处理形式出现。我们使用转换来对数据进行一些操作并使其适合训练。\n",
    "\n",
    "所有 TorchVision 数据集都有两个参数:\n",
    "\n",
    "+ transform，修改特征\n",
    "\n",
    "+ target_transform，修改标签（接受包含转换逻辑的可调用对象）。\n",
    "\n",
    "torchvision.transforms模块提供了几种常用的数据转换：\n",
    "\n",
    "+ ToTensor()\n",
    "\n",
    "+ Lambda\n",
    "\n",
    "+ CenterCrop()\n",
    "    \n",
    "+ Normalize()\n",
    "\n",
    "使用多个转换：\n",
    "```\n",
    "transformer.Compose([\n",
    "    transforms.ToTensor(),\n",
    "    transforms.CenterCrop(10),\n",
    "    transforms.Normalize((0.485, 0.456, 0.406), (0.229, 0.224, 0.225)),\n",
    "    \n",
    "])\n",
    "```\n",
    "\n",
    "更多关于`TORCHVISION.TRANSFORMS`：https://pytorch.org/vision/stable/transforms.html\n",
    "\n",
    "\n",
    "FashionMNIST 特征采用 PIL Image 格式，标签为整数。对于训练，我们需要将特征作为归一化张量，将标签作为单热编码张量。为了进行这些转换，我们使用ToTensor和Lambda。"
   ],
   "cell_type": "markdown",
   "metadata": {}
  },
  {
   "cell_type": "code",
   "execution_count": 4,
   "metadata": {},
   "outputs": [],
   "source": [
    "import torch\n",
    "import torchvision\n",
    "\n",
    "from torchvision import datasets,transforms\n",
    "from torchvision.transforms import ToTensor, Lambda\n",
    "\n",
    "ds = datasets.FashionMNIST(\n",
    "    root=\"data\",\n",
    "    train=True,\n",
    "    download=False,\n",
    "    # 转换feature\n",
    "    transform=ToTensor(),\n",
    "    # 转换label\n",
    "    target_transform=Lambda(lambda y: torch.zeros(10, dtype=torch.float).scatter_(0, torch.tensor(y), value=1))\n",
    ")"
   ]
  },
  {
   "source": [
    "小结：\n",
    "\n",
    "+ `torchvision.transforms`包含许多数据转换函数\n",
    "\n",
    "+ `transformer`转换样本特征\n",
    "\n",
    "+ `target_transformer`转换样本标签"
   ],
   "cell_type": "markdown",
   "metadata": {}
  },
  {
   "cell_type": "code",
   "execution_count": null,
   "metadata": {},
   "outputs": [],
   "source": []
  }
 ]
}