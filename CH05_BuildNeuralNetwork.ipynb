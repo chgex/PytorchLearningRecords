{
 "metadata": {
  "language_info": {
   "codemirror_mode": {
    "name": "ipython",
    "version": 3
   },
   "file_extension": ".py",
   "mimetype": "text/x-python",
   "name": "python",
   "nbconvert_exporter": "python",
   "pygments_lexer": "ipython3",
   "version": "3.8.8"
  },
  "orig_nbformat": 2,
  "kernelspec": {
   "name": "python388jvsc74a57bd0ac4d70e4d583a84b7ad989b773b88f6bded725ad52ee17c9fe1a30f4567fa143",
   "display_name": "Python 3.8.8 64-bit ('pytorchGPU': conda)"
  }
 },
 "nbformat": 4,
 "nbformat_minor": 2,
 "cells": [
  {
   "source": [
    "# CH05-BUILD THE NEURAL NETWORK\n",
    "\n",
    "官网链接：https://pytorch.org/tutorials/beginner/basics/buildmodel_tutorial.html\n",
    "\n",
    "神经网络由layers/modules组成。`torch.nn`提供构成神经网络的层和模块。\n",
    "\n",
    "每个modules都是`nn.Module`的子类，由layer构成。\n",
    "\n",
    "本节将构建一个神经网络模型，对FashionMnist数据集做分类。"
   ],
   "cell_type": "markdown",
   "metadata": {}
  },
  {
   "cell_type": "code",
   "execution_count": 1,
   "metadata": {},
   "outputs": [],
   "source": [
    "import torch\n",
    "from torch import nn\n",
    "from torchvision import datasets, transforms\n",
    "from torch.utils.data import DataLoader\n",
    "import os"
   ]
  },
  {
   "source": [
    "## 1 确定设备\n",
    "\n",
    "在GPU上训练模型，速度更快。\n",
    "\n",
    "使用以下命令检查GPU是否可用："
   ],
   "cell_type": "markdown",
   "metadata": {}
  },
  {
   "cell_type": "code",
   "execution_count": 2,
   "metadata": {},
   "outputs": [
    {
     "output_type": "stream",
     "name": "stdout",
     "text": [
      "Using cuda device\n"
     ]
    }
   ],
   "source": [
    "device = 'cuda' if torch.cuda.is_available() else 'cpu'\n",
    "\n",
    "print('Using {} device'.format(device))"
   ]
  },
  {
   "source": [
    "## 2 定义模型\n",
    "\n",
    "神经网络模型，继承自`nn.Module`类：\n",
    "\n",
    "+ `__init__`初始化模型层\n",
    "\n",
    "+ `forward`方法实现对输入数据的操作"
   ],
   "cell_type": "markdown",
   "metadata": {}
  },
  {
   "cell_type": "code",
   "execution_count": 3,
   "metadata": {},
   "outputs": [],
   "source": [
    "class NeuralNetwork(nn.Module):\n",
    "    def __init__(self):\n",
    "        super(NeuralNetwork, self).__init__()\n",
    "        self.flatten = nn.Flatten()\n",
    "        self.linear_relu_stack = nn.Sequential(\n",
    "            nn.Linear(28*28, 512),\n",
    "            nn.ReLU(),\n",
    "            nn.Linear(512, 512),\n",
    "            nn.ReLU(),\n",
    "            nn.Linear(512, 10),\n",
    "            nn.ReLU()\n",
    "        )\n",
    "\n",
    "    def forward(self, x):\n",
    "        x = self.flatten(x)\n",
    "        logits = self.linear_relu_stack(x)\n",
    "        return logits"
   ]
  },
  {
   "source": [
    "我们创建 的实例NeuralNetwork，并将其移动到device，并打印其结构。"
   ],
   "cell_type": "markdown",
   "metadata": {}
  },
  {
   "cell_type": "code",
   "execution_count": 4,
   "metadata": {},
   "outputs": [
    {
     "output_type": "stream",
     "name": "stdout",
     "text": [
      "NeuralNetwork(\n  (flatten): Flatten(start_dim=1, end_dim=-1)\n  (linear_relu_stack): Sequential(\n    (0): Linear(in_features=784, out_features=512, bias=True)\n    (1): ReLU()\n    (2): Linear(in_features=512, out_features=512, bias=True)\n    (3): ReLU()\n    (4): Linear(in_features=512, out_features=10, bias=True)\n    (5): ReLU()\n  )\n)\n"
     ]
    }
   ],
   "source": [
    "model = NeuralNetwork().to(device)\n",
    "print(model)"
   ]
  },
  {
   "source": [
    "为了使用模型，我们将输入数据传递给它，这将执行模型的forward。\n",
    "\n",
    "在输入上调用模型会返回一个 10 维张量，其中包含每个类的原始预测值。我们通过将其传递给nn.Softmax模块的实例来获得预测概率。"
   ],
   "cell_type": "markdown",
   "metadata": {}
  },
  {
   "cell_type": "code",
   "execution_count": 5,
   "metadata": {},
   "outputs": [
    {
     "output_type": "stream",
     "name": "stdout",
     "text": [
      "Predicted class: tensor([0], device='cuda:0')\n"
     ]
    }
   ],
   "source": [
    "X = torch.rand(1, 28, 28, device=device)\n",
    "logits = model(X)\n",
    "pred_probab = nn.Softmax(dim=1)(logits)\n",
    "y_pred = pred_probab.argmax(1)\n",
    "print(f\"Predicted class: {y_pred}\")"
   ]
  },
  {
   "source": [
    "## 3 查看模型层变化\n",
    "\n",
    "取minibatch=3, 大小为 28x28 的图像组成的小批量样本，看看通过网络传递该输入数据时，会发生什么。"
   ],
   "cell_type": "markdown",
   "metadata": {}
  },
  {
   "cell_type": "code",
   "execution_count": 7,
   "metadata": {},
   "outputs": [
    {
     "output_type": "stream",
     "name": "stdout",
     "text": [
      "torch.Size([3, 28, 28])\n"
     ]
    }
   ],
   "source": [
    "input_image = torch.rand(3,28,28)\n",
    "\n",
    "print(input_image.size())"
   ]
  },
  {
   "source": [
    "### 3.1 nn.Flatten()\n",
    "\n",
    "我们初始化 nn.Flatten 层以将每个 2D 的 28x28 图像转换为 784 个像素值的连续数组（保持小批量维度（dim=0））"
   ],
   "cell_type": "markdown",
   "metadata": {}
  },
  {
   "cell_type": "code",
   "execution_count": 9,
   "metadata": {},
   "outputs": [
    {
     "output_type": "stream",
     "name": "stdout",
     "text": [
      "torch.Size([3, 784])\n"
     ]
    }
   ],
   "source": [
    "flatten = nn.Flatten()\n",
    "flat_image = flatten(input_image)\n",
    "\n",
    "print(flat_image.size())"
   ]
  },
  {
   "source": [
    "### 3.2 nn.Lear()\n",
    "\n",
    "线性层，它使用其存储的权重和偏差对输入做线性变换（保持小批量维度）"
   ],
   "cell_type": "markdown",
   "metadata": {}
  },
  {
   "cell_type": "code",
   "execution_count": 11,
   "metadata": {},
   "outputs": [
    {
     "output_type": "stream",
     "name": "stdout",
     "text": [
      "torch.Size([3, 20])\n"
     ]
    }
   ],
   "source": [
    "layer1 = nn.Linear(in_features=28*28, out_features=20)\n",
    "\n",
    "hidden1 = layer1(flat_image)\n",
    "\n",
    "print(hidden1.size())"
   ]
  },
  {
   "source": [
    "### 3.3 nn.ReLU()\n",
    "\n",
    "非线性激活是在模型的输入和输出之间创建复杂映射。\n",
    "\n",
    "在线性变换之后应用非线性激活函数，帮助神经网络学习。\n",
    "\n",
    "在这个模型中，我们在线性层之间使用了nn.ReLU，但是还有其他的非线性激活函数。"
   ],
   "cell_type": "markdown",
   "metadata": {}
  },
  {
   "cell_type": "code",
   "execution_count": 12,
   "metadata": {},
   "outputs": [
    {
     "output_type": "stream",
     "name": "stdout",
     "text": [
      "Before ReLU: tensor([[ 0.0585, -0.1585, -0.0222, -0.1794, -0.1152,  0.0181, -0.1770, -0.1645,\n          0.2353,  0.5118,  0.3541,  0.0680,  0.2344,  0.1840, -0.2612,  0.2032,\n          0.0201, -0.2444,  0.1717, -0.3305],\n        [ 0.0336, -0.2431,  0.0490,  0.0894, -0.5817, -0.2275, -0.1509, -0.0694,\n          0.0216,  0.2984,  0.1855, -0.3007,  0.1077,  0.0852,  0.1619,  0.1788,\n         -0.4759, -0.1685, -0.0570, -0.4864],\n        [ 0.0484, -0.1489,  0.1566,  0.3399, -0.2424, -0.1686,  0.1826, -0.6875,\n         -0.0582,  0.4163,  0.2066, -0.2445,  0.3296,  0.1540,  0.0787,  0.2674,\n         -0.3087, -0.3145, -0.1088, -0.5256]], grad_fn=<AddmmBackward>)\n\n\nAfter ReLU: tensor([[0.0585, 0.0000, 0.0000, 0.0000, 0.0000, 0.0181, 0.0000, 0.0000, 0.2353,\n         0.5118, 0.3541, 0.0680, 0.2344, 0.1840, 0.0000, 0.2032, 0.0201, 0.0000,\n         0.1717, 0.0000],\n        [0.0336, 0.0000, 0.0490, 0.0894, 0.0000, 0.0000, 0.0000, 0.0000, 0.0216,\n         0.2984, 0.1855, 0.0000, 0.1077, 0.0852, 0.1619, 0.1788, 0.0000, 0.0000,\n         0.0000, 0.0000],\n        [0.0484, 0.0000, 0.1566, 0.3399, 0.0000, 0.0000, 0.1826, 0.0000, 0.0000,\n         0.4163, 0.2066, 0.0000, 0.3296, 0.1540, 0.0787, 0.2674, 0.0000, 0.0000,\n         0.0000, 0.0000]], grad_fn=<ReluBackward0>)\n"
     ]
    }
   ],
   "source": [
    "print(f\"Before ReLU: {hidden1}\\n\\n\")\n",
    "\n",
    "hidden1 = nn.ReLU()(hidden1)\n",
    "\n",
    "print(f\"After ReLU: {hidden1}\")"
   ]
  },
  {
   "source": [
    "### 3.4 nn.Sequential\n",
    "\n",
    "nn.Sequential 是一个有序的模块容器，输入数据按照定义时的模块顺序，依次通过所有模块。\n",
    "\n",
    "可以使用顺序容器来组合一个像 seq_modules 这样的网络。"
   ],
   "cell_type": "markdown",
   "metadata": {}
  },
  {
   "cell_type": "code",
   "execution_count": 14,
   "metadata": {},
   "outputs": [
    {
     "output_type": "execute_result",
     "data": {
      "text/plain": [
       "torch.Size([3, 10])"
      ]
     },
     "metadata": {},
     "execution_count": 14
    }
   ],
   "source": [
    "seq_modules = nn.Sequential(\n",
    "    nn.Flatten(),\n",
    "    # layer1,\n",
    "    nn.Linear(in_features=28*28, out_features=20),\n",
    "    nn.ReLU(),\n",
    "    nn.Linear(20, 10)\n",
    ")\n",
    "input_image = torch.rand(3,28,28)\n",
    "logits = seq_modules(input_image)\n",
    "\n",
    "print(logits.shape)"
   ]
  },
  {
   "source": [
    "### 3.5 nn.Softmax\n",
    "\n",
    "`nn.Softmax`模块将 logits 值缩放 `[0, 1]`，该输出代表模型对每个类的预测概率。\n",
    "\n",
    "dim参数指示输出值必须总和为 1 的 维度。"
   ],
   "cell_type": "markdown",
   "metadata": {}
  },
  {
   "cell_type": "code",
   "execution_count": 18,
   "metadata": {},
   "outputs": [
    {
     "output_type": "stream",
     "name": "stdout",
     "text": [
      "0.12905359268188477\n"
     ]
    }
   ],
   "source": [
    "softmax = nn.Softmax(dim=1)\n",
    "pred_probab = softmax(logits)\n",
    "\n",
    "print(pred_probab.max().item())"
   ]
  },
  {
   "source": [
    "## 4 模型参数\n",
    "\n",
    "神经网络内的许多层都是参数化的，即在训练期间，这些参数（权重和偏差）会被优化。\n",
    "\n",
    "`nn.Module`子类会自动跟踪模型对象中定义的所有参数，\n",
    "\n",
    "模型中所有参数都可以通过模型的`parameters()`或`named_parameters()`方法访问。"
   ],
   "cell_type": "markdown",
   "metadata": {}
  },
  {
   "cell_type": "code",
   "execution_count": 19,
   "metadata": {},
   "outputs": [
    {
     "output_type": "stream",
     "name": "stdout",
     "text": [
      "Model structure:  NeuralNetwork(\n",
      "  (flatten): Flatten(start_dim=1, end_dim=-1)\n",
      "  (linear_relu_stack): Sequential(\n",
      "    (0): Linear(in_features=784, out_features=512, bias=True)\n",
      "    (1): ReLU()\n",
      "    (2): Linear(in_features=512, out_features=512, bias=True)\n",
      "    (3): ReLU()\n",
      "    (4): Linear(in_features=512, out_features=10, bias=True)\n",
      "    (5): ReLU()\n",
      "  )\n",
      ") \n",
      "\n",
      "\n",
      "Layer: linear_relu_stack.0.weight | Size: torch.Size([512, 784]) | Values : tensor([[ 0.0189, -0.0119,  0.0202,  ..., -0.0101,  0.0341, -0.0219],\n",
      "        [-0.0107, -0.0067,  0.0089,  ...,  0.0302, -0.0086,  0.0227]],\n",
      "       device='cuda:0', grad_fn=<SliceBackward>) \n",
      "\n",
      "Layer: linear_relu_stack.0.bias | Size: torch.Size([512]) | Values : tensor([-0.0353,  0.0254], device='cuda:0', grad_fn=<SliceBackward>) \n",
      "\n",
      "Layer: linear_relu_stack.2.weight | Size: torch.Size([512, 512]) | Values : tensor([[ 0.0427, -0.0091,  0.0441,  ..., -0.0197,  0.0181,  0.0192],\n",
      "        [ 0.0079,  0.0190,  0.0040,  ...,  0.0157, -0.0119, -0.0108]],\n",
      "       device='cuda:0', grad_fn=<SliceBackward>) \n",
      "\n",
      "Layer: linear_relu_stack.2.bias | Size: torch.Size([512]) | Values : tensor([ 0.0440, -0.0179], device='cuda:0', grad_fn=<SliceBackward>) \n",
      "\n",
      "Layer: linear_relu_stack.4.weight | Size: torch.Size([10, 512]) | Values : tensor([[ 0.0265,  0.0268,  0.0295,  ..., -0.0092,  0.0426, -0.0076],\n",
      "        [-0.0246, -0.0189,  0.0145,  ...,  0.0411,  0.0275,  0.0048]],\n",
      "       device='cuda:0', grad_fn=<SliceBackward>) \n",
      "\n",
      "Layer: linear_relu_stack.4.bias | Size: torch.Size([10]) | Values : tensor([ 0.0283, -0.0426], device='cuda:0', grad_fn=<SliceBackward>) \n",
      "\n"
     ]
    }
   ],
   "source": [
    "print(\"Model structure: \", model, \"\\n\\n\")\n",
    "\n",
    "for name, param in model.named_parameters():\n",
    "    print(f\"Layer: {name} | Size: {param.size()} | Values : {param[:2]} \\n\")"
   ]
  },
  {
   "source": [
    "更多关于`torch.nn`的API：https://pytorch.org/docs/stable/nn.html"
   ],
   "cell_type": "markdown",
   "metadata": {}
  },
  {
   "cell_type": "code",
   "execution_count": null,
   "metadata": {},
   "outputs": [],
   "source": []
  }
 ]
}