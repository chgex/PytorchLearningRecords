{
 "metadata": {
  "language_info": {
   "codemirror_mode": {
    "name": "ipython",
    "version": 3
   },
   "file_extension": ".py",
   "mimetype": "text/x-python",
   "name": "python",
   "nbconvert_exporter": "python",
   "pygments_lexer": "ipython3",
   "version": "3.8.8"
  },
  "orig_nbformat": 2,
  "kernelspec": {
   "name": "python388jvsc74a57bd0ac4d70e4d583a84b7ad989b773b88f6bded725ad52ee17c9fe1a30f4567fa143",
   "display_name": "Python 3.8.8 64-bit ('pytorchGPU': conda)"
  }
 },
 "nbformat": 4,
 "nbformat_minor": 2,
 "cells": [
  {
   "source": [
    "# CH01- Quick Start\n",
    "\n",
    "[pytorch tutorial link](https://pytorch.org/tutorials/beginner/basics/quickstart_tutorial.html)\n",
    "\n"
   ],
   "cell_type": "markdown",
   "metadata": {}
  },
  {
   "source": [
    "## 1-处理数据\n",
    "\n",
    "PyTorch 有两个用于处理数据的函数： \n",
    "\n",
    "+ torch.utils.data.DataLoader\n",
    "\n",
    "+ torch.utils.data.Dataset\n",
    "\n",
    "其中，Dataset 存储样本及相应标签；DataLoader一次加载一批量Dataset中的数据。\n",
    "\n",
    "`torchvision.datasets`模块包含许多现有的数据集，如 CIFAR、COCO、FashionMNIST等数据集。\n",
    "\n",
    "`torchvision.dataset`包含两个参数：transform和 target_transform，分别表示修改样本和修改标签。"
   ],
   "cell_type": "markdown",
   "metadata": {}
  },
  {
   "cell_type": "code",
   "execution_count": 1,
   "metadata": {},
   "outputs": [],
   "source": [
    "import torch\n",
    "from torch import nn\n",
    "from torch.utils.data import DataLoader\n",
    "from torchvision import datasets,transforms\n",
    "\n",
    "# ToTensor, Lambda, Compose\n",
    "import matplotlib.pyplot as plt"
   ]
  },
  {
   "source": [
    "### 1.1 下载数据集"
   ],
   "cell_type": "markdown",
   "metadata": {}
  },
  {
   "cell_type": "code",
   "execution_count": 2,
   "metadata": {},
   "outputs": [
    {
     "output_type": "stream",
     "name": "stdout",
     "text": [
      "Downloading http://fashion-mnist.s3-website.eu-central-1.amazonaws.com/train-images-idx3-ubyte.gz\n",
      "Downloading http://fashion-mnist.s3-website.eu-central-1.amazonaws.com/train-images-idx3-ubyte.gz to data\\FashionMNIST\\raw\\train-images-idx3-ubyte.gz\n",
      "100.0%\n",
      "Extracting data\\FashionMNIST\\raw\\train-images-idx3-ubyte.gz to data\\FashionMNIST\\raw\n",
      "\n",
      "Downloading http://fashion-mnist.s3-website.eu-central-1.amazonaws.com/train-labels-idx1-ubyte.gz\n",
      "Downloading http://fashion-mnist.s3-website.eu-central-1.amazonaws.com/train-labels-idx1-ubyte.gz to data\\FashionMNIST\\raw\\train-labels-idx1-ubyte.gz\n",
      "100.6%\n",
      "Extracting data\\FashionMNIST\\raw\\train-labels-idx1-ubyte.gz to data\\FashionMNIST\\raw\n",
      "\n",
      "Downloading http://fashion-mnist.s3-website.eu-central-1.amazonaws.com/t10k-images-idx3-ubyte.gz\n",
      "Downloading http://fashion-mnist.s3-website.eu-central-1.amazonaws.com/t10k-images-idx3-ubyte.gz to data\\FashionMNIST\\raw\\t10k-images-idx3-ubyte.gz\n",
      "100.0%\n",
      "Extracting data\\FashionMNIST\\raw\\t10k-images-idx3-ubyte.gz to data\\FashionMNIST\\raw\n",
      "\n",
      "Downloading http://fashion-mnist.s3-website.eu-central-1.amazonaws.com/t10k-labels-idx1-ubyte.gz\n",
      "Downloading http://fashion-mnist.s3-website.eu-central-1.amazonaws.com/t10k-labels-idx1-ubyte.gz to data\\FashionMNIST\\raw\\t10k-labels-idx1-ubyte.gz\n",
      "119.3%\n",
      "D:\\Application\\Anaconda\\envs\\pytorchGPU\\lib\\site-packages\\torchvision\\datasets\\mnist.py:502: UserWarning: The given NumPy array is not writeable, and PyTorch does not support non-writeable tensors. This means you can write to the underlying (supposedly non-writeable) NumPy array using the tensor. You may want to copy the array to protect its data or make it writeable before converting it to a tensor. This type of warning will be suppressed for the rest of this program. (Triggered internally at  ..\\torch\\csrc\\utils\\tensor_numpy.cpp:143.)\n",
      "  return torch.from_numpy(parsed.astype(m[2], copy=False)).view(*s)\n",
      "Extracting data\\FashionMNIST\\raw\\t10k-labels-idx1-ubyte.gz to data\\FashionMNIST\\raw\n",
      "\n",
      "Processing...\n",
      "Done!\n"
     ]
    }
   ],
   "source": [
    "# Download training data from open datasets.\n",
    "download_flag=False\n",
    "\n",
    "training_data = datasets.FashionMNIST(\n",
    "    root=\"data\",\n",
    "    train=True,\n",
    "    # download=True,\n",
    "    download=download_flag,\n",
    "    transform=transforms.ToTensor(),\n",
    ")\n",
    "\n",
    "# Download test data from open datasets.\n",
    "test_data = datasets.FashionMNIST(\n",
    "    root=\"data\",\n",
    "    train=False,\n",
    "    # download=True,\n",
    "    download=download_flag,\n",
    "    transform=transforms.ToTensor(),\n",
    ")"
   ]
  },
  {
   "source": [
    "### 1.2 小批量加载数据\n",
    "\n",
    "将Dataset作为参数传递给DataLoader。这在我们的数据集上包装了一个迭代，并支持自动批处理、采样、混洗和多进程数据加载。\n",
    "\n",
    "这里我们定义了 batch_size=64 的批量大小，即数据加载器的每一次迭代将返回 64 个特征和标签组成的批量。"
   ],
   "cell_type": "markdown",
   "metadata": {}
  },
  {
   "cell_type": "code",
   "execution_count": 3,
   "metadata": {},
   "outputs": [
    {
     "output_type": "stream",
     "name": "stdout",
     "text": [
      "Shape of X [N, C, H, W]:  torch.Size([64, 1, 28, 28])\nShape of y:  torch.Size([64]) torch.int64\n"
     ]
    }
   ],
   "source": [
    "batch_size = 64\n",
    "\n",
    "# Create data loaders.\n",
    "train_dataloader = DataLoader(training_data, batch_size=batch_size)\n",
    "test_dataloader = DataLoader(test_data, batch_size=batch_size)\n",
    "\n",
    "for X, y in test_dataloader:\n",
    "    print(\"Shape of X [N, C, H, W]: \", X.shape)\n",
    "    print(\"Shape of y: \", y.shape, y.dtype)\n",
    "    break"
   ]
  },
  {
   "source": [
    "## 2-创建模型\n",
    "\n",
    "在 PyTorch 中定义神经网络，需要创建一个继承自`nn.Module`的类:\n",
    "\n",
    "+ 在__init__函数中定义网络的各个层，\n",
    "\n",
    "+ 在`forward()`函数中指定，在网络中，数据如何前向传播\n",
    "\n",
    "GPU可以加速神经网络中的数据计算（如果可用）。"
   ],
   "cell_type": "markdown",
   "metadata": {}
  },
  {
   "cell_type": "code",
   "execution_count": 4,
   "metadata": {},
   "outputs": [
    {
     "output_type": "stream",
     "name": "stdout",
     "text": [
      "Using cuda device\n",
      "NeuralNetwork(\n",
      "  (flatten): Flatten(start_dim=1, end_dim=-1)\n",
      "  (linear_relu_stack): Sequential(\n",
      "    (0): Linear(in_features=784, out_features=512, bias=True)\n",
      "    (1): ReLU()\n",
      "    (2): Linear(in_features=512, out_features=512, bias=True)\n",
      "    (3): ReLU()\n",
      "    (4): Linear(in_features=512, out_features=10, bias=True)\n",
      "    (5): ReLU()\n",
      "  )\n",
      ")\n"
     ]
    }
   ],
   "source": [
    "# Get cpu or gpu device for training.\n",
    "device = \"cuda\" if torch.cuda.is_available() else \"cpu\"\n",
    "print(\"Using {} device\".format(device))\n",
    "\n",
    "# Define model\n",
    "class NeuralNetwork(nn.Module):\n",
    "    def __init__(self):\n",
    "        super(NeuralNetwork, self).__init__()\n",
    "        self.flatten = nn.Flatten()\n",
    "        self.linear_relu_stack = nn.Sequential(\n",
    "            nn.Linear(28*28, 512),\n",
    "            nn.ReLU(),\n",
    "            nn.Linear(512, 512),\n",
    "            nn.ReLU(),\n",
    "            nn.Linear(512, 10),\n",
    "            nn.ReLU()\n",
    "        )\n",
    "\n",
    "    def forward(self, x):\n",
    "        x = self.flatten(x)\n",
    "        logits = self.linear_relu_stack(x)\n",
    "        return logits\n",
    "\n",
    "model = NeuralNetwork().to(device)\n",
    "print(model)"
   ]
  },
  {
   "source": [
    "## 3-优化模型参数\n",
    "\n",
    "为了训练上述定义的模型，需要定义损失函数和优化器"
   ],
   "cell_type": "markdown",
   "metadata": {}
  },
  {
   "cell_type": "code",
   "execution_count": 5,
   "metadata": {},
   "outputs": [],
   "source": [
    "\n",
    "loss_fn = nn.CrossEntropyLoss()\n",
    "\n",
    "optimizer = torch.optim.SGD(model.parameters(), lr=1e-3)"
   ]
  },
  {
   "source": [
    "在一次训练迭代中，模型对小批量训练集进行预测，然后计算出预测误差，再对预测误差做反向传播，以调整模型参数。"
   ],
   "cell_type": "markdown",
   "metadata": {}
  },
  {
   "cell_type": "code",
   "execution_count": 6,
   "metadata": {},
   "outputs": [],
   "source": [
    "def train(dataloader, model, loss_fn, optimizer):\n",
    "    size = len(dataloader.dataset)\n",
    "    for batch, (X, y) in enumerate(dataloader):\n",
    "        X, y = X.to(device), y.to(device)\n",
    "\n",
    "        # Compute prediction error\n",
    "        pred = model(X)\n",
    "        loss = loss_fn(pred, y)\n",
    "\n",
    "        # Backpropagation\n",
    "        optimizer.zero_grad()\n",
    "        loss.backward()\n",
    "        optimizer.step()\n",
    "\n",
    "        if batch % 100 == 0:\n",
    "            loss, current = loss.item(), batch * len(X)\n",
    "            print(f\"loss: {loss:>7f}  [{current:>5d}/{size:>5d}]\")"
   ]
  },
  {
   "source": [
    "除了定义训练函数之外，还需要定义一个测试函数，以检查模型在测试集上的性能。"
   ],
   "cell_type": "markdown",
   "metadata": {}
  },
  {
   "cell_type": "code",
   "execution_count": 7,
   "metadata": {},
   "outputs": [],
   "source": [
    "def test(dataloader, model):\n",
    "    size = len(dataloader.dataset)\n",
    "    model.eval()\n",
    "    test_loss, correct = 0, 0\n",
    "    with torch.no_grad():\n",
    "        for X, y in dataloader:\n",
    "            X, y = X.to(device), y.to(device)\n",
    "            pred = model(X)\n",
    "            test_loss += loss_fn(pred, y).item()\n",
    "            correct += (pred.argmax(1) == y).type(torch.float).sum().item()\n",
    "    test_loss /= size\n",
    "    correct /= size\n",
    "    print(f\"Test Error: \\n Accuracy: {(100*correct):>0.1f}%, Avg loss: {test_loss:>8f} \\n\")"
   ]
  },
  {
   "source": [
    "设定epoch=5,在每个epoch结束后，打印出模型的准确度和损失。\n",
    "\n",
    "随着epoch增加，loss越小越好，准确度越高越好。"
   ],
   "cell_type": "markdown",
   "metadata": {}
  },
  {
   "cell_type": "code",
   "execution_count": 8,
   "metadata": {},
   "outputs": [
    {
     "output_type": "stream",
     "name": "stdout",
     "text": [
      "Epoch 1\n",
      "-------------------------------\n",
      "loss: 2.306628  [    0/60000]\n",
      "loss: 2.298265  [ 6400/60000]\n",
      "loss: 2.280692  [12800/60000]\n",
      "loss: 2.277453  [19200/60000]\n",
      "loss: 2.260351  [25600/60000]\n",
      "loss: 2.254862  [32000/60000]\n",
      "loss: 2.235303  [38400/60000]\n",
      "loss: 2.215355  [44800/60000]\n",
      "loss: 2.207268  [51200/60000]\n",
      "loss: 2.211222  [57600/60000]\n",
      "Test Error: \n",
      " Accuracy: 52.2%, Avg loss: 0.034546 \n",
      "\n",
      "Epoch 2\n",
      "-------------------------------\n",
      "loss: 2.186224  [    0/60000]\n",
      "loss: 2.201916  [ 6400/60000]\n",
      "loss: 2.158741  [12800/60000]\n",
      "loss: 2.186998  [19200/60000]\n",
      "loss: 2.128443  [25600/60000]\n",
      "loss: 2.124032  [32000/60000]\n",
      "loss: 2.089390  [38400/60000]\n",
      "loss: 2.047239  [44800/60000]\n",
      "loss: 2.055050  [51200/60000]\n",
      "loss: 2.060381  [57600/60000]\n",
      "Test Error: \n",
      " Accuracy: 48.1%, Avg loss: 0.032131 \n",
      "\n",
      "Epoch 3\n",
      "-------------------------------\n",
      "loss: 2.017087  [    0/60000]\n",
      "loss: 2.050029  [ 6400/60000]\n",
      "loss: 1.971771  [12800/60000]\n",
      "loss: 2.041152  [19200/60000]\n",
      "loss: 1.918628  [25600/60000]\n",
      "loss: 1.927792  [32000/60000]\n",
      "loss: 1.864164  [38400/60000]\n",
      "loss: 1.798333  [44800/60000]\n",
      "loss: 1.844436  [51200/60000]\n",
      "loss: 1.846792  [57600/60000]\n",
      "Test Error: \n",
      " Accuracy: 47.8%, Avg loss: 0.028866 \n",
      "\n",
      "Epoch 4\n",
      "-------------------------------\n",
      "loss: 1.785922  [    0/60000]\n",
      "loss: 1.851534  [ 6400/60000]\n",
      "loss: 1.747610  [12800/60000]\n",
      "loss: 1.872469  [19200/60000]\n",
      "loss: 1.685831  [25600/60000]\n",
      "loss: 1.725811  [32000/60000]\n",
      "loss: 1.627411  [38400/60000]\n",
      "loss: 1.565435  [44800/60000]\n",
      "loss: 1.647966  [51200/60000]\n",
      "loss: 1.658337  [57600/60000]\n",
      "Test Error: \n",
      " Accuracy: 50.6%, Avg loss: 0.026088 \n",
      "\n",
      "Epoch 5\n",
      "-------------------------------\n",
      "loss: 1.579947  [    0/60000]\n",
      "loss: 1.685272  [ 6400/60000]\n",
      "loss: 1.575613  [12800/60000]\n",
      "loss: 1.742573  [19200/60000]\n",
      "loss: 1.510883  [25600/60000]\n",
      "loss: 1.587299  [32000/60000]\n",
      "loss: 1.454301  [38400/60000]\n",
      "loss: 1.412150  [44800/60000]\n",
      "loss: 1.506210  [51200/60000]\n",
      "loss: 1.531334  [57600/60000]\n",
      "Test Error: \n",
      " Accuracy: 52.8%, Avg loss: 0.024124 \n",
      "\n",
      "Done!\n"
     ]
    }
   ],
   "source": [
    "epochs = 5\n",
    "for t in range(epochs):\n",
    "    print(f\"Epoch {t+1}\\n-------------------------------\")\n",
    "    \n",
    "    train(train_dataloader, model, loss_fn, optimizer)\n",
    "    test(test_dataloader, model)\n",
    "\n",
    "print(\"Done!\")"
   ]
  },
  {
   "source": [
    "## 4-保存模型\n",
    "\n",
    "保存模型：通过序列化内部状态字典（包含模型参数）的方式。\n",
    "\n",
    "函数：\n",
    "`torch.save(model.state_dict(),\"model.pth\")`"
   ],
   "cell_type": "markdown",
   "metadata": {}
  },
  {
   "cell_type": "code",
   "execution_count": 9,
   "metadata": {},
   "outputs": [
    {
     "output_type": "stream",
     "name": "stdout",
     "text": [
      "Saved PyTorch Model State to model.pth\n"
     ]
    }
   ],
   "source": [
    "torch.save(model.state_dict(), \"model.pth\")\n",
    "print(\"Saved PyTorch Model State to model.pth\")"
   ]
  },
  {
   "source": [
    "## 5-加载模型和预测"
   ],
   "cell_type": "markdown",
   "metadata": {}
  },
  {
   "cell_type": "code",
   "execution_count": 10,
   "metadata": {},
   "outputs": [
    {
     "output_type": "execute_result",
     "data": {
      "text/plain": [
       "<All keys matched successfully>"
      ]
     },
     "metadata": {},
     "execution_count": 10
    }
   ],
   "source": [
    "model = NeuralNetwork()\n",
    "model.load_state_dict(torch.load(\"data_ch01/model.pth\"))"
   ]
  },
  {
   "source": [
    "模型预测\n"
   ],
   "cell_type": "markdown",
   "metadata": {}
  },
  {
   "cell_type": "code",
   "execution_count": 11,
   "metadata": {},
   "outputs": [
    {
     "output_type": "stream",
     "name": "stdout",
     "text": [
      "Predicted: \"Ankle boot\", Actual: \"Ankle boot\"\n"
     ]
    }
   ],
   "source": [
    "classes = [\n",
    "    \"T-shirt/top\",\n",
    "    \"Trouser\",\n",
    "    \"Pullover\",\n",
    "    \"Dress\",\n",
    "    \"Coat\",\n",
    "    \"Sandal\",\n",
    "    \"Shirt\",\n",
    "    \"Sneaker\",\n",
    "    \"Bag\",\n",
    "    \"Ankle boot\",\n",
    "]\n",
    "\n",
    "model.eval()\n",
    "x, y = test_data[0][0], test_data[0][1]\n",
    "with torch.no_grad():\n",
    "    pred = model(x)\n",
    "    # pred是一个向量\n",
    "    predicted, actual = classes[pred[0].argmax(0)], classes[y]\n",
    "    # print\n",
    "    print(f'Predicted: \"{predicted}\", Actual: \"{actual}\"')"
   ]
  },
  {
   "source": [
    "总结：\n",
    "\n",
    "+ 处理数据，得到dataLoader \n",
    "\n",
    "+ 创建模型\n",
    "\n",
    "+ 定义（选择）损失函数，选择优化器，以优化模型参数\n",
    "\n",
    "+ 保存模型。"
   ],
   "cell_type": "markdown",
   "metadata": {}
  },
  {
   "cell_type": "code",
   "execution_count": null,
   "metadata": {},
   "outputs": [],
   "source": []
  }
 ]
}