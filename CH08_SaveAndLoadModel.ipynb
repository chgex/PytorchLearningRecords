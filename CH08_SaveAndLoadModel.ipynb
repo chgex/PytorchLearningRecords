{
 "metadata": {
  "language_info": {
   "codemirror_mode": {
    "name": "ipython",
    "version": 3
   },
   "file_extension": ".py",
   "mimetype": "text/x-python",
   "name": "python",
   "nbconvert_exporter": "python",
   "pygments_lexer": "ipython3",
   "version": "3.8.8"
  },
  "orig_nbformat": 2,
  "kernelspec": {
   "name": "python388jvsc74a57bd0ac4d70e4d583a84b7ad989b773b88f6bded725ad52ee17c9fe1a30f4567fa143",
   "display_name": "Python 3.8.8 64-bit ('pytorchGPU': conda)"
  }
 },
 "nbformat": 4,
 "nbformat_minor": 2,
 "cells": [
  {
   "source": [
    "# CH08-保存和加载模型\n",
    "\n",
    "官网链接：https://pytorch.org/tutorials/beginner/basics/saveloadrun_tutorial.html\n",
    "\n",
    "\n",
    "## 8.1 保存模型权重\n",
    "\n",
    "pytorch使用内部状态字典(internal state dictionary)保存模型参数，可以通过`model.state_dict()`调用。\n",
    "\n",
    "通过`torch.save()`方法，来持久化模型。"
   ],
   "cell_type": "markdown",
   "metadata": {}
  },
  {
   "cell_type": "code",
   "execution_count": 3,
   "metadata": {},
   "outputs": [],
   "source": [
    "import torch\n",
    "import torch.onnx as onnx\n",
    "import torchvision.models as models"
   ]
  },
  {
   "cell_type": "code",
   "execution_count": 4,
   "metadata": {},
   "outputs": [
    {
     "output_type": "stream",
     "name": "stderr",
     "text": [
      "Downloading: \"https://download.pytorch.org/models/vgg16-397923af.pth\" to C:\\Users\\admin/.cache\\torch\\hub\\checkpoints\\vgg16-397923af.pth\n",
      "100.0%\n"
     ]
    }
   ],
   "source": [
    "model = models.vgg16(pretrained=True)\n",
    "torch.save(model.state_dict(), 'data_ch08/model_weights.pth')"
   ]
  },
  {
   "source": [
    "## 8.2 加载模型\n",
    "\n",
    "加载模型权重之前，需要先创建一个模型实例，然后使用`model.load_state_dict()`加载模型权重。\n",
    "\n",
    "为了避免deopout层和归一化层对模型推理产生影响，需要调用`model.eval()`将模型设置为评估模型。"
   ],
   "cell_type": "markdown",
   "metadata": {}
  },
  {
   "cell_type": "code",
   "execution_count": null,
   "metadata": {},
   "outputs": [],
   "source": [
    "# we do not specify pretrained=True, i.e. do not load default weights\n",
    "model = models.vgg16() \n",
    "\n",
    "model.load_state_dict(torch.load('data_ch08/model_weights.pth'))\n",
    "model.eval()"
   ]
  },
  {
   "source": [
    "## 8.3 保存和加载特定结构的模型\n",
    "\n",
    "如果要将模型结构和模型参数一起保存，则只需要将model（而不是model.state_dict()）传递给`torch.save()`：\n",
    "\n",
    "`torch.save(model, 'model.pth')`\n",
    "\n",
    "\n",
    "加载模型时，通过以下方式：\n",
    "\n",
    "`model = torch.load('model.pth')`\n",
    "\n",
    "Note:\n",
    "\n",
    "pytorch序列化模型时，使用了pickle模块，因此在加载模型的时候，依赖于实际的类定义。\n",
    "\n",
    "将模型导出到 ONNX\n",
    "PyTorch 还具有本机 ONNX 导出支持。然而，鉴于 PyTorch 执行图的动态特性，导出过程必须遍历执行图以生成持久化的 ONNX 模型。出于这个原因，应该将适当大小的测试变量传递给导出例程（在我们的例子中，我们将创建一个正确大小的虚拟零张量）："
   ],
   "cell_type": "markdown",
   "metadata": {}
  },
  {
   "cell_type": "code",
   "execution_count": 5,
   "metadata": {},
   "outputs": [],
   "source": [
    "# 保存模型\n",
    "torch.save(model, 'data_ch08/model.pth')"
   ]
  },
  {
   "cell_type": "code",
   "execution_count": 6,
   "metadata": {},
   "outputs": [],
   "source": [
    "# 加载模型\n",
    "model = torch.load('data_ch08/model.pth')"
   ]
  },
  {
   "source": [
    "## 8.4 将模型导出为onnx"
   ],
   "cell_type": "markdown",
   "metadata": {}
  },
  {
   "cell_type": "code",
   "execution_count": 7,
   "metadata": {},
   "outputs": [],
   "source": [
    "\n",
    "input_image = torch.zeros((1,3,224,224))\n",
    "\n",
    "onnx.export(model, input_image, 'data_ch08/model.onnx')"
   ]
  },
  {
   "source": [
    "总结:\n",
    "\n",
    "+ `torch.save(model.state_dict(), 'model_weights.pth')`，只保存模型权重，加载时，需要先定义匹配的模型；\n",
    "\n",
    "+ `torch.save(model, 'model.pth')`，保存模型和权重。\n"
   ],
   "cell_type": "markdown",
   "metadata": {}
  },
  {
   "cell_type": "code",
   "execution_count": null,
   "metadata": {},
   "outputs": [],
   "source": []
  }
 ]
}